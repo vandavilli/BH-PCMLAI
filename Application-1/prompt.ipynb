{
 "cells": [
  {
   "cell_type": "markdown",
   "metadata": {},
   "source": [
    "### Will a Customer Accept the Coupon?\n",
    "\n",
    "**Context**\n",
    "\n",
    "Imagine driving through town and a coupon is delivered to your cell phone for a restaraunt near where you are driving. Would you accept that coupon and take a short detour to the restaraunt? Would you accept the coupon but use it on a sunbsequent trip? Would you ignore the coupon entirely? What if the coupon was for a bar instead of a restaraunt? What about a coffee house? Would you accept a bar coupon with a minor passenger in the car? What about if it was just you and your partner in the car? Would weather impact the rate of acceptance? What about the time of day?\n",
    "\n",
    "Obviously, proximity to the business is a factor on whether the coupon is delivered to the driver or not, but what are the factors that determine whether a driver accepts the coupon once it is delivered to them? How would you determine whether a driver is likely to accept a coupon?\n",
    "\n",
    "**Overview**\n",
    "\n",
    "The goal of this project is to use what you know about visualizations and probability distributions to distinguish between customers who accepted a driving coupon versus those that did not.\n",
    "\n",
    "**Data**\n",
    "\n",
    "This data comes to us from the UCI Machine Learning repository and was collected via a survey on Amazon Mechanical Turk. The survey describes different driving scenarios including the destination, current time, weather, passenger, etc., and then ask the person whether he will accept the coupon if he is the driver. Answers that the user will drive there ‘right away’ or ‘later before the coupon expires’ are labeled as ‘Y = 1’ and answers ‘no, I do not want the coupon’ are labeled as ‘Y = 0’.  There are five different types of coupons -- less expensive restaurants (under \\\\$20), coffee houses, carry out & take away, bar, and more expensive restaurants (\\\\$20 - \\\\$50). "
   ]
  },
  {
   "cell_type": "markdown",
   "metadata": {},
   "source": [
    "**Deliverables**\n",
    "\n",
    "Your final product should be a brief report that highlights the differences between customers who did and did not accept the coupons.  To explore the data you will utilize your knowledge of plotting, statistical summaries, and visualization using Python. You will publish your findings in a public facing github repository as your first portfolio piece. \n",
    "\n",
    "\n",
    "\n"
   ]
  },
  {
   "cell_type": "markdown",
   "metadata": {},
   "source": [
    "### Data Description\n",
    "Keep in mind that these values mentioned below are average values.\n",
    "\n",
    "The attributes of this data set include:\n",
    "1. User attributes\n",
    "    -  Gender: male, female\n",
    "    -  Age: below 21, 21 to 25, 26 to 30, etc.\n",
    "    -  Marital Status: single, married partner, unmarried partner, or widowed\n",
    "    -  Number of children: 0, 1, or more than 1\n",
    "    -  Education: high school, bachelors degree, associates degree, or graduate degree\n",
    "    -  Occupation: architecture & engineering, business & financial, etc.\n",
    "    -  Annual income: less than \\\\$12500, \\\\$12500 - \\\\$24999, \\\\$25000 - \\\\$37499, etc.\n",
    "    -  Number of times that he/she goes to a bar: 0, less than 1, 1 to 3, 4 to 8 or greater than 8\n",
    "    -  Number of times that he/she buys takeaway food: 0, less than 1, 1 to 3, 4 to 8 or greater\n",
    "    than 8\n",
    "    -  Number of times that he/she goes to a coffee house: 0, less than 1, 1 to 3, 4 to 8 or\n",
    "    greater than 8\n",
    "    -  Number of times that he/she eats at a restaurant with average expense less than \\\\$20 per\n",
    "    person: 0, less than 1, 1 to 3, 4 to 8 or greater than 8\n",
    "    -  Number of times that he/she goes to a bar: 0, less than 1, 1 to 3, 4 to 8 or greater than 8\n",
    "    \n",
    "\n",
    "2. Contextual attributes\n",
    "    - Driving destination: home, work, or no urgent destination\n",
    "    - Location of user, coupon and destination: we provide a map to show the geographical\n",
    "    location of the user, destination, and the venue, and we mark the distance between each\n",
    "    two places with time of driving. The user can see whether the venue is in the same\n",
    "    direction as the destination.\n",
    "    - Weather: sunny, rainy, or snowy\n",
    "    - Temperature: 30F, 55F, or 80F\n",
    "    - Time: 10AM, 2PM, or 6PM\n",
    "    - Passenger: alone, partner, kid(s), or friend(s)\n",
    "\n",
    "\n",
    "3. Coupon attributes\n",
    "    - time before it expires: 2 hours or one day"
   ]
  },
  {
   "cell_type": "code",
   "execution_count": 2,
   "metadata": {},
   "outputs": [],
   "source": [
    "from scipy.stats import uniform\n",
    "import matplotlib.pyplot as plt\n",
    "import seaborn as sns\n",
    "import pandas as pd\n",
    "import numpy as np\n",
    "import plotly.express as px"
   ]
  },
  {
   "cell_type": "markdown",
   "metadata": {},
   "source": [
    "### Problems\n",
    "\n",
    "Use the prompts below to get started with your data analysis.  \n",
    "\n",
    "1. Read in the `coupons.csv` file.\n",
    "\n",
    "\n"
   ]
  },
  {
   "cell_type": "code",
   "execution_count": 3,
   "metadata": {},
   "outputs": [],
   "source": [
    "pd.set_option('display.max_columns',None)\n",
    "pd.set_option('display.max_rows',None)"
   ]
  },
  {
   "cell_type": "code",
   "execution_count": 4,
   "metadata": {},
   "outputs": [],
   "source": [
    "data = pd.read_csv('data/coupons.csv')"
   ]
  },
  {
   "cell_type": "code",
   "execution_count": 5,
   "metadata": {},
   "outputs": [
    {
     "name": "stdout",
     "output_type": "stream",
     "text": [
      "<class 'pandas.core.frame.DataFrame'>\n",
      "RangeIndex: 12684 entries, 0 to 12683\n",
      "Data columns (total 26 columns):\n",
      " #   Column                Non-Null Count  Dtype \n",
      "---  ------                --------------  ----- \n",
      " 0   destination           12684 non-null  object\n",
      " 1   passanger             12684 non-null  object\n",
      " 2   weather               12684 non-null  object\n",
      " 3   temperature           12684 non-null  int64 \n",
      " 4   time                  12684 non-null  object\n",
      " 5   coupon                12684 non-null  object\n",
      " 6   expiration            12684 non-null  object\n",
      " 7   gender                12684 non-null  object\n",
      " 8   age                   12684 non-null  object\n",
      " 9   maritalStatus         12684 non-null  object\n",
      " 10  has_children          12684 non-null  int64 \n",
      " 11  education             12684 non-null  object\n",
      " 12  occupation            12684 non-null  object\n",
      " 13  income                12684 non-null  object\n",
      " 14  car                   108 non-null    object\n",
      " 15  Bar                   12577 non-null  object\n",
      " 16  CoffeeHouse           12467 non-null  object\n",
      " 17  CarryAway             12533 non-null  object\n",
      " 18  RestaurantLessThan20  12554 non-null  object\n",
      " 19  Restaurant20To50      12495 non-null  object\n",
      " 20  toCoupon_GEQ5min      12684 non-null  int64 \n",
      " 21  toCoupon_GEQ15min     12684 non-null  int64 \n",
      " 22  toCoupon_GEQ25min     12684 non-null  int64 \n",
      " 23  direction_same        12684 non-null  int64 \n",
      " 24  direction_opp         12684 non-null  int64 \n",
      " 25  Y                     12684 non-null  int64 \n",
      "dtypes: int64(8), object(18)\n",
      "memory usage: 2.5+ MB\n"
     ]
    }
   ],
   "source": [
    "data.info()"
   ]
  },
  {
   "cell_type": "code",
   "execution_count": 6,
   "metadata": {},
   "outputs": [
    {
     "data": {
      "text/html": [
       "<div>\n",
       "<style scoped>\n",
       "    .dataframe tbody tr th:only-of-type {\n",
       "        vertical-align: middle;\n",
       "    }\n",
       "\n",
       "    .dataframe tbody tr th {\n",
       "        vertical-align: top;\n",
       "    }\n",
       "\n",
       "    .dataframe thead th {\n",
       "        text-align: right;\n",
       "    }\n",
       "</style>\n",
       "<table border=\"1\" class=\"dataframe\">\n",
       "  <thead>\n",
       "    <tr style=\"text-align: right;\">\n",
       "      <th></th>\n",
       "      <th>destination</th>\n",
       "      <th>passanger</th>\n",
       "      <th>weather</th>\n",
       "      <th>temperature</th>\n",
       "      <th>time</th>\n",
       "      <th>coupon</th>\n",
       "      <th>expiration</th>\n",
       "      <th>gender</th>\n",
       "      <th>age</th>\n",
       "      <th>maritalStatus</th>\n",
       "      <th>has_children</th>\n",
       "      <th>education</th>\n",
       "      <th>occupation</th>\n",
       "      <th>income</th>\n",
       "      <th>car</th>\n",
       "      <th>Bar</th>\n",
       "      <th>CoffeeHouse</th>\n",
       "      <th>CarryAway</th>\n",
       "      <th>RestaurantLessThan20</th>\n",
       "      <th>Restaurant20To50</th>\n",
       "      <th>toCoupon_GEQ5min</th>\n",
       "      <th>toCoupon_GEQ15min</th>\n",
       "      <th>toCoupon_GEQ25min</th>\n",
       "      <th>direction_same</th>\n",
       "      <th>direction_opp</th>\n",
       "      <th>Y</th>\n",
       "    </tr>\n",
       "  </thead>\n",
       "  <tbody>\n",
       "    <tr>\n",
       "      <th>0</th>\n",
       "      <td>No Urgent Place</td>\n",
       "      <td>Alone</td>\n",
       "      <td>Sunny</td>\n",
       "      <td>55</td>\n",
       "      <td>2PM</td>\n",
       "      <td>Restaurant(&lt;20)</td>\n",
       "      <td>1d</td>\n",
       "      <td>Female</td>\n",
       "      <td>21</td>\n",
       "      <td>Unmarried partner</td>\n",
       "      <td>1</td>\n",
       "      <td>Some college - no degree</td>\n",
       "      <td>Unemployed</td>\n",
       "      <td>$37500 - $49999</td>\n",
       "      <td>NaN</td>\n",
       "      <td>never</td>\n",
       "      <td>never</td>\n",
       "      <td>NaN</td>\n",
       "      <td>4~8</td>\n",
       "      <td>1~3</td>\n",
       "      <td>1</td>\n",
       "      <td>0</td>\n",
       "      <td>0</td>\n",
       "      <td>0</td>\n",
       "      <td>1</td>\n",
       "      <td>1</td>\n",
       "    </tr>\n",
       "    <tr>\n",
       "      <th>1</th>\n",
       "      <td>No Urgent Place</td>\n",
       "      <td>Friend(s)</td>\n",
       "      <td>Sunny</td>\n",
       "      <td>80</td>\n",
       "      <td>10AM</td>\n",
       "      <td>Coffee House</td>\n",
       "      <td>2h</td>\n",
       "      <td>Female</td>\n",
       "      <td>21</td>\n",
       "      <td>Unmarried partner</td>\n",
       "      <td>1</td>\n",
       "      <td>Some college - no degree</td>\n",
       "      <td>Unemployed</td>\n",
       "      <td>$37500 - $49999</td>\n",
       "      <td>NaN</td>\n",
       "      <td>never</td>\n",
       "      <td>never</td>\n",
       "      <td>NaN</td>\n",
       "      <td>4~8</td>\n",
       "      <td>1~3</td>\n",
       "      <td>1</td>\n",
       "      <td>0</td>\n",
       "      <td>0</td>\n",
       "      <td>0</td>\n",
       "      <td>1</td>\n",
       "      <td>0</td>\n",
       "    </tr>\n",
       "    <tr>\n",
       "      <th>2</th>\n",
       "      <td>No Urgent Place</td>\n",
       "      <td>Friend(s)</td>\n",
       "      <td>Sunny</td>\n",
       "      <td>80</td>\n",
       "      <td>10AM</td>\n",
       "      <td>Carry out &amp; Take away</td>\n",
       "      <td>2h</td>\n",
       "      <td>Female</td>\n",
       "      <td>21</td>\n",
       "      <td>Unmarried partner</td>\n",
       "      <td>1</td>\n",
       "      <td>Some college - no degree</td>\n",
       "      <td>Unemployed</td>\n",
       "      <td>$37500 - $49999</td>\n",
       "      <td>NaN</td>\n",
       "      <td>never</td>\n",
       "      <td>never</td>\n",
       "      <td>NaN</td>\n",
       "      <td>4~8</td>\n",
       "      <td>1~3</td>\n",
       "      <td>1</td>\n",
       "      <td>1</td>\n",
       "      <td>0</td>\n",
       "      <td>0</td>\n",
       "      <td>1</td>\n",
       "      <td>1</td>\n",
       "    </tr>\n",
       "    <tr>\n",
       "      <th>3</th>\n",
       "      <td>No Urgent Place</td>\n",
       "      <td>Friend(s)</td>\n",
       "      <td>Sunny</td>\n",
       "      <td>80</td>\n",
       "      <td>2PM</td>\n",
       "      <td>Coffee House</td>\n",
       "      <td>2h</td>\n",
       "      <td>Female</td>\n",
       "      <td>21</td>\n",
       "      <td>Unmarried partner</td>\n",
       "      <td>1</td>\n",
       "      <td>Some college - no degree</td>\n",
       "      <td>Unemployed</td>\n",
       "      <td>$37500 - $49999</td>\n",
       "      <td>NaN</td>\n",
       "      <td>never</td>\n",
       "      <td>never</td>\n",
       "      <td>NaN</td>\n",
       "      <td>4~8</td>\n",
       "      <td>1~3</td>\n",
       "      <td>1</td>\n",
       "      <td>1</td>\n",
       "      <td>0</td>\n",
       "      <td>0</td>\n",
       "      <td>1</td>\n",
       "      <td>0</td>\n",
       "    </tr>\n",
       "    <tr>\n",
       "      <th>4</th>\n",
       "      <td>No Urgent Place</td>\n",
       "      <td>Friend(s)</td>\n",
       "      <td>Sunny</td>\n",
       "      <td>80</td>\n",
       "      <td>2PM</td>\n",
       "      <td>Coffee House</td>\n",
       "      <td>1d</td>\n",
       "      <td>Female</td>\n",
       "      <td>21</td>\n",
       "      <td>Unmarried partner</td>\n",
       "      <td>1</td>\n",
       "      <td>Some college - no degree</td>\n",
       "      <td>Unemployed</td>\n",
       "      <td>$37500 - $49999</td>\n",
       "      <td>NaN</td>\n",
       "      <td>never</td>\n",
       "      <td>never</td>\n",
       "      <td>NaN</td>\n",
       "      <td>4~8</td>\n",
       "      <td>1~3</td>\n",
       "      <td>1</td>\n",
       "      <td>1</td>\n",
       "      <td>0</td>\n",
       "      <td>0</td>\n",
       "      <td>1</td>\n",
       "      <td>0</td>\n",
       "    </tr>\n",
       "  </tbody>\n",
       "</table>\n",
       "</div>"
      ],
      "text/plain": [
       "       destination  passanger weather  temperature  time  \\\n",
       "0  No Urgent Place      Alone   Sunny           55   2PM   \n",
       "1  No Urgent Place  Friend(s)   Sunny           80  10AM   \n",
       "2  No Urgent Place  Friend(s)   Sunny           80  10AM   \n",
       "3  No Urgent Place  Friend(s)   Sunny           80   2PM   \n",
       "4  No Urgent Place  Friend(s)   Sunny           80   2PM   \n",
       "\n",
       "                  coupon expiration  gender age      maritalStatus  \\\n",
       "0        Restaurant(<20)         1d  Female  21  Unmarried partner   \n",
       "1           Coffee House         2h  Female  21  Unmarried partner   \n",
       "2  Carry out & Take away         2h  Female  21  Unmarried partner   \n",
       "3           Coffee House         2h  Female  21  Unmarried partner   \n",
       "4           Coffee House         1d  Female  21  Unmarried partner   \n",
       "\n",
       "   has_children                 education  occupation           income  car  \\\n",
       "0             1  Some college - no degree  Unemployed  $37500 - $49999  NaN   \n",
       "1             1  Some college - no degree  Unemployed  $37500 - $49999  NaN   \n",
       "2             1  Some college - no degree  Unemployed  $37500 - $49999  NaN   \n",
       "3             1  Some college - no degree  Unemployed  $37500 - $49999  NaN   \n",
       "4             1  Some college - no degree  Unemployed  $37500 - $49999  NaN   \n",
       "\n",
       "     Bar CoffeeHouse CarryAway RestaurantLessThan20 Restaurant20To50  \\\n",
       "0  never       never       NaN                  4~8              1~3   \n",
       "1  never       never       NaN                  4~8              1~3   \n",
       "2  never       never       NaN                  4~8              1~3   \n",
       "3  never       never       NaN                  4~8              1~3   \n",
       "4  never       never       NaN                  4~8              1~3   \n",
       "\n",
       "   toCoupon_GEQ5min  toCoupon_GEQ15min  toCoupon_GEQ25min  direction_same  \\\n",
       "0                 1                  0                  0               0   \n",
       "1                 1                  0                  0               0   \n",
       "2                 1                  1                  0               0   \n",
       "3                 1                  1                  0               0   \n",
       "4                 1                  1                  0               0   \n",
       "\n",
       "   direction_opp  Y  \n",
       "0              1  1  \n",
       "1              1  0  \n",
       "2              1  1  \n",
       "3              1  0  \n",
       "4              1  0  "
      ]
     },
     "execution_count": 6,
     "metadata": {},
     "output_type": "execute_result"
    }
   ],
   "source": [
    "data.head()"
   ]
  },
  {
   "cell_type": "markdown",
   "metadata": {},
   "source": [
    "2. Investigate the dataset for missing or problematic data."
   ]
  },
  {
   "cell_type": "code",
   "execution_count": 7,
   "metadata": {},
   "outputs": [
    {
     "name": "stdout",
     "output_type": "stream",
     "text": [
      "destination                 0\n",
      "passanger                   0\n",
      "weather                     0\n",
      "temperature                 0\n",
      "time                        0\n",
      "coupon                      0\n",
      "expiration                  0\n",
      "gender                      0\n",
      "age                         0\n",
      "maritalStatus               0\n",
      "has_children                0\n",
      "education                   0\n",
      "occupation                  0\n",
      "income                      0\n",
      "car                     12576\n",
      "Bar                       107\n",
      "CoffeeHouse               217\n",
      "CarryAway                 151\n",
      "RestaurantLessThan20      130\n",
      "Restaurant20To50          189\n",
      "toCoupon_GEQ5min            0\n",
      "toCoupon_GEQ15min           0\n",
      "toCoupon_GEQ25min           0\n",
      "direction_same              0\n",
      "direction_opp               0\n",
      "Y                           0\n",
      "dtype: int64\n"
     ]
    }
   ],
   "source": [
    "data_nulls = data.isnull().sum()\n",
    "print(data_nulls)"
   ]
  },
  {
   "cell_type": "markdown",
   "metadata": {},
   "source": [
    "3. Decide what to do about your missing data -- drop, replace, other..."
   ]
  },
  {
   "cell_type": "code",
   "execution_count": 58,
   "metadata": {},
   "outputs": [
    {
     "data": {
      "text/plain": [
       "12684"
      ]
     },
     "execution_count": 58,
     "metadata": {},
     "output_type": "execute_result"
    }
   ],
   "source": [
    "# If we drop null values, the data set will lose a significant amount of data - which could impact later analysis & hence decided to retain data.\n",
    "df1 = data.dropna()\n",
    "df1.shape[0]"
   ]
  },
  {
   "cell_type": "code",
   "execution_count": 59,
   "metadata": {},
   "outputs": [],
   "source": [
    "# create 2 datasets for num & categorical data\n",
    "num_var = data.select_dtypes(['int64'])\n",
    "cat_var = data.select_dtypes(['object'])"
   ]
  },
  {
   "cell_type": "code",
   "execution_count": 60,
   "metadata": {},
   "outputs": [
    {
     "data": {
      "text/html": [
       "<div>\n",
       "<style scoped>\n",
       "    .dataframe tbody tr th:only-of-type {\n",
       "        vertical-align: middle;\n",
       "    }\n",
       "\n",
       "    .dataframe tbody tr th {\n",
       "        vertical-align: top;\n",
       "    }\n",
       "\n",
       "    .dataframe thead th {\n",
       "        text-align: right;\n",
       "    }\n",
       "</style>\n",
       "<table border=\"1\" class=\"dataframe\">\n",
       "  <thead>\n",
       "    <tr style=\"text-align: right;\">\n",
       "      <th></th>\n",
       "      <th>temperature</th>\n",
       "      <th>has_children</th>\n",
       "      <th>toCoupon_GEQ5min</th>\n",
       "      <th>toCoupon_GEQ15min</th>\n",
       "      <th>toCoupon_GEQ25min</th>\n",
       "      <th>direction_same</th>\n",
       "      <th>direction_opp</th>\n",
       "      <th>Y</th>\n",
       "    </tr>\n",
       "  </thead>\n",
       "  <tbody>\n",
       "    <tr>\n",
       "      <th>0</th>\n",
       "      <td>55</td>\n",
       "      <td>1</td>\n",
       "      <td>1</td>\n",
       "      <td>0</td>\n",
       "      <td>0</td>\n",
       "      <td>0</td>\n",
       "      <td>1</td>\n",
       "      <td>1</td>\n",
       "    </tr>\n",
       "    <tr>\n",
       "      <th>1</th>\n",
       "      <td>80</td>\n",
       "      <td>1</td>\n",
       "      <td>1</td>\n",
       "      <td>0</td>\n",
       "      <td>0</td>\n",
       "      <td>0</td>\n",
       "      <td>1</td>\n",
       "      <td>0</td>\n",
       "    </tr>\n",
       "    <tr>\n",
       "      <th>2</th>\n",
       "      <td>80</td>\n",
       "      <td>1</td>\n",
       "      <td>1</td>\n",
       "      <td>1</td>\n",
       "      <td>0</td>\n",
       "      <td>0</td>\n",
       "      <td>1</td>\n",
       "      <td>1</td>\n",
       "    </tr>\n",
       "    <tr>\n",
       "      <th>3</th>\n",
       "      <td>80</td>\n",
       "      <td>1</td>\n",
       "      <td>1</td>\n",
       "      <td>1</td>\n",
       "      <td>0</td>\n",
       "      <td>0</td>\n",
       "      <td>1</td>\n",
       "      <td>0</td>\n",
       "    </tr>\n",
       "    <tr>\n",
       "      <th>4</th>\n",
       "      <td>80</td>\n",
       "      <td>1</td>\n",
       "      <td>1</td>\n",
       "      <td>1</td>\n",
       "      <td>0</td>\n",
       "      <td>0</td>\n",
       "      <td>1</td>\n",
       "      <td>0</td>\n",
       "    </tr>\n",
       "  </tbody>\n",
       "</table>\n",
       "</div>"
      ],
      "text/plain": [
       "   temperature  has_children  toCoupon_GEQ5min  toCoupon_GEQ15min  \\\n",
       "0           55             1                 1                  0   \n",
       "1           80             1                 1                  0   \n",
       "2           80             1                 1                  1   \n",
       "3           80             1                 1                  1   \n",
       "4           80             1                 1                  1   \n",
       "\n",
       "   toCoupon_GEQ25min  direction_same  direction_opp  Y  \n",
       "0                  0               0              1  1  \n",
       "1                  0               0              1  0  \n",
       "2                  0               0              1  1  \n",
       "3                  0               0              1  0  \n",
       "4                  0               0              1  0  "
      ]
     },
     "execution_count": 60,
     "metadata": {},
     "output_type": "execute_result"
    }
   ],
   "source": [
    "num_var.head()"
   ]
  },
  {
   "cell_type": "code",
   "execution_count": 61,
   "metadata": {},
   "outputs": [
    {
     "data": {
      "text/html": [
       "<div>\n",
       "<style scoped>\n",
       "    .dataframe tbody tr th:only-of-type {\n",
       "        vertical-align: middle;\n",
       "    }\n",
       "\n",
       "    .dataframe tbody tr th {\n",
       "        vertical-align: top;\n",
       "    }\n",
       "\n",
       "    .dataframe thead th {\n",
       "        text-align: right;\n",
       "    }\n",
       "</style>\n",
       "<table border=\"1\" class=\"dataframe\">\n",
       "  <thead>\n",
       "    <tr style=\"text-align: right;\">\n",
       "      <th></th>\n",
       "      <th>destination</th>\n",
       "      <th>passanger</th>\n",
       "      <th>weather</th>\n",
       "      <th>time</th>\n",
       "      <th>coupon</th>\n",
       "      <th>expiration</th>\n",
       "      <th>gender</th>\n",
       "      <th>age</th>\n",
       "      <th>maritalStatus</th>\n",
       "      <th>education</th>\n",
       "      <th>occupation</th>\n",
       "      <th>income</th>\n",
       "      <th>car</th>\n",
       "      <th>Bar</th>\n",
       "      <th>CoffeeHouse</th>\n",
       "      <th>CarryAway</th>\n",
       "      <th>RestaurantLessThan20</th>\n",
       "      <th>Restaurant20To50</th>\n",
       "    </tr>\n",
       "  </thead>\n",
       "  <tbody>\n",
       "    <tr>\n",
       "      <th>0</th>\n",
       "      <td>No Urgent Place</td>\n",
       "      <td>Alone</td>\n",
       "      <td>Sunny</td>\n",
       "      <td>2PM</td>\n",
       "      <td>Restaurant(&lt;20)</td>\n",
       "      <td>1d</td>\n",
       "      <td>Female</td>\n",
       "      <td>21</td>\n",
       "      <td>Unmarried partner</td>\n",
       "      <td>Some college - no degree</td>\n",
       "      <td>Unemployed</td>\n",
       "      <td>$37500 - $49999</td>\n",
       "      <td>Mazda5</td>\n",
       "      <td>never</td>\n",
       "      <td>never</td>\n",
       "      <td>1~3</td>\n",
       "      <td>4~8</td>\n",
       "      <td>1~3</td>\n",
       "    </tr>\n",
       "    <tr>\n",
       "      <th>1</th>\n",
       "      <td>No Urgent Place</td>\n",
       "      <td>Friend(s)</td>\n",
       "      <td>Sunny</td>\n",
       "      <td>10AM</td>\n",
       "      <td>Coffee House</td>\n",
       "      <td>2h</td>\n",
       "      <td>Female</td>\n",
       "      <td>21</td>\n",
       "      <td>Unmarried partner</td>\n",
       "      <td>Some college - no degree</td>\n",
       "      <td>Unemployed</td>\n",
       "      <td>$37500 - $49999</td>\n",
       "      <td>Mazda5</td>\n",
       "      <td>never</td>\n",
       "      <td>never</td>\n",
       "      <td>1~3</td>\n",
       "      <td>4~8</td>\n",
       "      <td>1~3</td>\n",
       "    </tr>\n",
       "    <tr>\n",
       "      <th>2</th>\n",
       "      <td>No Urgent Place</td>\n",
       "      <td>Friend(s)</td>\n",
       "      <td>Sunny</td>\n",
       "      <td>10AM</td>\n",
       "      <td>Carry out &amp; Take away</td>\n",
       "      <td>2h</td>\n",
       "      <td>Female</td>\n",
       "      <td>21</td>\n",
       "      <td>Unmarried partner</td>\n",
       "      <td>Some college - no degree</td>\n",
       "      <td>Unemployed</td>\n",
       "      <td>$37500 - $49999</td>\n",
       "      <td>Mazda5</td>\n",
       "      <td>never</td>\n",
       "      <td>never</td>\n",
       "      <td>1~3</td>\n",
       "      <td>4~8</td>\n",
       "      <td>1~3</td>\n",
       "    </tr>\n",
       "    <tr>\n",
       "      <th>3</th>\n",
       "      <td>No Urgent Place</td>\n",
       "      <td>Friend(s)</td>\n",
       "      <td>Sunny</td>\n",
       "      <td>2PM</td>\n",
       "      <td>Coffee House</td>\n",
       "      <td>2h</td>\n",
       "      <td>Female</td>\n",
       "      <td>21</td>\n",
       "      <td>Unmarried partner</td>\n",
       "      <td>Some college - no degree</td>\n",
       "      <td>Unemployed</td>\n",
       "      <td>$37500 - $49999</td>\n",
       "      <td>Mazda5</td>\n",
       "      <td>never</td>\n",
       "      <td>never</td>\n",
       "      <td>1~3</td>\n",
       "      <td>4~8</td>\n",
       "      <td>1~3</td>\n",
       "    </tr>\n",
       "    <tr>\n",
       "      <th>4</th>\n",
       "      <td>No Urgent Place</td>\n",
       "      <td>Friend(s)</td>\n",
       "      <td>Sunny</td>\n",
       "      <td>2PM</td>\n",
       "      <td>Coffee House</td>\n",
       "      <td>1d</td>\n",
       "      <td>Female</td>\n",
       "      <td>21</td>\n",
       "      <td>Unmarried partner</td>\n",
       "      <td>Some college - no degree</td>\n",
       "      <td>Unemployed</td>\n",
       "      <td>$37500 - $49999</td>\n",
       "      <td>Mazda5</td>\n",
       "      <td>never</td>\n",
       "      <td>never</td>\n",
       "      <td>1~3</td>\n",
       "      <td>4~8</td>\n",
       "      <td>1~3</td>\n",
       "    </tr>\n",
       "  </tbody>\n",
       "</table>\n",
       "</div>"
      ],
      "text/plain": [
       "       destination  passanger weather  time                 coupon expiration  \\\n",
       "0  No Urgent Place      Alone   Sunny   2PM        Restaurant(<20)         1d   \n",
       "1  No Urgent Place  Friend(s)   Sunny  10AM           Coffee House         2h   \n",
       "2  No Urgent Place  Friend(s)   Sunny  10AM  Carry out & Take away         2h   \n",
       "3  No Urgent Place  Friend(s)   Sunny   2PM           Coffee House         2h   \n",
       "4  No Urgent Place  Friend(s)   Sunny   2PM           Coffee House         1d   \n",
       "\n",
       "   gender age      maritalStatus                 education  occupation  \\\n",
       "0  Female  21  Unmarried partner  Some college - no degree  Unemployed   \n",
       "1  Female  21  Unmarried partner  Some college - no degree  Unemployed   \n",
       "2  Female  21  Unmarried partner  Some college - no degree  Unemployed   \n",
       "3  Female  21  Unmarried partner  Some college - no degree  Unemployed   \n",
       "4  Female  21  Unmarried partner  Some college - no degree  Unemployed   \n",
       "\n",
       "            income     car    Bar CoffeeHouse CarryAway RestaurantLessThan20  \\\n",
       "0  $37500 - $49999  Mazda5  never       never       1~3                  4~8   \n",
       "1  $37500 - $49999  Mazda5  never       never       1~3                  4~8   \n",
       "2  $37500 - $49999  Mazda5  never       never       1~3                  4~8   \n",
       "3  $37500 - $49999  Mazda5  never       never       1~3                  4~8   \n",
       "4  $37500 - $49999  Mazda5  never       never       1~3                  4~8   \n",
       "\n",
       "  Restaurant20To50  \n",
       "0              1~3  \n",
       "1              1~3  \n",
       "2              1~3  \n",
       "3              1~3  \n",
       "4              1~3  "
      ]
     },
     "execution_count": 61,
     "metadata": {},
     "output_type": "execute_result"
    }
   ],
   "source": [
    "cat_var.head()"
   ]
  },
  {
   "cell_type": "code",
   "execution_count": 62,
   "metadata": {},
   "outputs": [
    {
     "data": {
      "text/plain": [
       "([], [])"
      ]
     },
     "execution_count": 62,
     "metadata": {},
     "output_type": "execute_result"
    }
   ],
   "source": [
    "missing_num_var = [var for var in num_var.columns if data[var].isnull().sum()>0]\n",
    "missing_cat_var = [var for var in cat_var.columns if data[var].isnull().sum()>0]\n",
    "missing_num_var,missing_cat_var"
   ]
  },
  {
   "cell_type": "code",
   "execution_count": 64,
   "metadata": {},
   "outputs": [],
   "source": [
    "# Analysis for Numerical data - Use mean to impute missing numerical values \n",
    "# NOT REQUIRED as there are no missing numerical values"
   ]
  },
  {
   "cell_type": "code",
   "execution_count": 65,
   "metadata": {},
   "outputs": [],
   "source": [
    "# Analysis for CATEGORICAL data - Use mode to impute missing numerical values"
   ]
  },
  {
   "cell_type": "code",
   "execution_count": 66,
   "metadata": {},
   "outputs": [],
   "source": [
    "for var in missing_cat_var:\n",
    "    data.update(data[var].fillna(data[var].mode()[0],inplace=True))"
   ]
  },
  {
   "cell_type": "code",
   "execution_count": 67,
   "metadata": {},
   "outputs": [
    {
     "data": {
      "text/plain": [
       "0"
      ]
     },
     "execution_count": 67,
     "metadata": {},
     "output_type": "execute_result"
    }
   ],
   "source": [
    "# confirming no null values present.\n",
    "data.isnull().sum().sum()"
   ]
  },
  {
   "cell_type": "markdown",
   "metadata": {},
   "source": [
    "4. What proportion of the total observations chose to accept the coupon? \n",
    "\n"
   ]
  },
  {
   "cell_type": "code",
   "execution_count": 68,
   "metadata": {},
   "outputs": [
    {
     "name": "stdout",
     "output_type": "stream",
     "text": [
      "56.84 % of the customers accepted the coupon.\n"
     ]
    }
   ],
   "source": [
    "cnp_acpt_cnt = (data[data.Y == 1].shape[0])/(data.shape[0])*100\n",
    "print(np.round(cnp_acpt_cnt,2), '% of the customers accepted the coupon.')"
   ]
  },
  {
   "cell_type": "markdown",
   "metadata": {},
   "source": [
    "5. Use a bar plot to visualize the `coupon` column."
   ]
  },
  {
   "cell_type": "code",
   "execution_count": 69,
   "metadata": {},
   "outputs": [
    {
     "data": {
      "image/png": "[encoded data removed]",
      "text/plain": [
       "<Figure size 1000x500 with 1 Axes>"
      ]
     },
     "metadata": {},
     "output_type": "display_data"
    }
   ],
   "source": [
    "sns.set(rc={\"figure.figsize\":(10, 5)})\n",
    "fig = sns.countplot(x=\"coupon\", hue='coupon', data=data)\n",
    "for container in fig.containers:\n",
    "    fig.bar_label(container)\n",
    "\n",
    "plt.xlabel(\"Coupon Types\")\n",
    "plt.ylabel(\"Count\")\n",
    "plt.title(\"Count by Coupon Types\")\n",
    "plt.show(fig)"
   ]
  },
  {
   "cell_type": "markdown",
   "metadata": {},
   "source": [
    "6. Use a histogram to visualize the temperature column."
   ]
  },
  {
   "cell_type": "code",
   "execution_count": 70,
   "metadata": {},
   "outputs": [
    {
     "data": {
      "image/png": "[encoded data removed]"
     },
     "metadata": {},
     "output_type": "display_data"
    }
   ],
   "source": [
    "fig = px.histogram(data, x='temperature', title=\"Histogram of temperatures\", labels={'temperature':'Temperature'},\n",
    "                   color='temperature', text_auto=True)\n",
    "fig.show('png')"
   ]
  },
  {
   "cell_type": "markdown",
   "metadata": {},
   "source": [
    "**Investigating the Bar Coupons**\n",
    "\n",
    "Now, we will lead you through an exploration of just the bar related coupons.  \n",
    "\n",
    "1. Create a new `DataFrame` that contains just the bar coupons.\n"
   ]
  },
  {
   "cell_type": "code",
   "execution_count": 71,
   "metadata": {},
   "outputs": [
    {
     "data": {
      "text/html": [
       "<div>\n",
       "<style scoped>\n",
       "    .dataframe tbody tr th:only-of-type {\n",
       "        vertical-align: middle;\n",
       "    }\n",
       "\n",
       "    .dataframe tbody tr th {\n",
       "        vertical-align: top;\n",
       "    }\n",
       "\n",
       "    .dataframe thead th {\n",
       "        text-align: right;\n",
       "    }\n",
       "</style>\n",
       "<table border=\"1\" class=\"dataframe\">\n",
       "  <thead>\n",
       "    <tr style=\"text-align: right;\">\n",
       "      <th></th>\n",
       "      <th>destination</th>\n",
       "      <th>passanger</th>\n",
       "      <th>weather</th>\n",
       "      <th>temperature</th>\n",
       "      <th>time</th>\n",
       "      <th>coupon</th>\n",
       "      <th>expiration</th>\n",
       "      <th>gender</th>\n",
       "      <th>age</th>\n",
       "      <th>maritalStatus</th>\n",
       "      <th>has_children</th>\n",
       "      <th>education</th>\n",
       "      <th>occupation</th>\n",
       "      <th>income</th>\n",
       "      <th>car</th>\n",
       "      <th>Bar</th>\n",
       "      <th>CoffeeHouse</th>\n",
       "      <th>CarryAway</th>\n",
       "      <th>RestaurantLessThan20</th>\n",
       "      <th>Restaurant20To50</th>\n",
       "      <th>toCoupon_GEQ5min</th>\n",
       "      <th>toCoupon_GEQ15min</th>\n",
       "      <th>toCoupon_GEQ25min</th>\n",
       "      <th>direction_same</th>\n",
       "      <th>direction_opp</th>\n",
       "      <th>Y</th>\n",
       "    </tr>\n",
       "  </thead>\n",
       "  <tbody>\n",
       "    <tr>\n",
       "      <th>11633</th>\n",
       "      <td>Work</td>\n",
       "      <td>Alone</td>\n",
       "      <td>Snowy</td>\n",
       "      <td>30</td>\n",
       "      <td>7AM</td>\n",
       "      <td>Bar</td>\n",
       "      <td>1d</td>\n",
       "      <td>Male</td>\n",
       "      <td>41</td>\n",
       "      <td>Married partner</td>\n",
       "      <td>1</td>\n",
       "      <td>Some college - no degree</td>\n",
       "      <td>Business &amp; Financial</td>\n",
       "      <td>$100000 or More</td>\n",
       "      <td>Mazda5</td>\n",
       "      <td>less1</td>\n",
       "      <td>less1</td>\n",
       "      <td>1~3</td>\n",
       "      <td>1~3</td>\n",
       "      <td>less1</td>\n",
       "      <td>1</td>\n",
       "      <td>1</td>\n",
       "      <td>1</td>\n",
       "      <td>0</td>\n",
       "      <td>1</td>\n",
       "      <td>1</td>\n",
       "    </tr>\n",
       "    <tr>\n",
       "      <th>7630</th>\n",
       "      <td>No Urgent Place</td>\n",
       "      <td>Partner</td>\n",
       "      <td>Sunny</td>\n",
       "      <td>30</td>\n",
       "      <td>10AM</td>\n",
       "      <td>Bar</td>\n",
       "      <td>1d</td>\n",
       "      <td>Male</td>\n",
       "      <td>50plus</td>\n",
       "      <td>Unmarried partner</td>\n",
       "      <td>1</td>\n",
       "      <td>Associates degree</td>\n",
       "      <td>Transportation &amp; Material Moving</td>\n",
       "      <td>$50000 - $62499</td>\n",
       "      <td>Mazda5</td>\n",
       "      <td>never</td>\n",
       "      <td>1~3</td>\n",
       "      <td>4~8</td>\n",
       "      <td>4~8</td>\n",
       "      <td>1~3</td>\n",
       "      <td>1</td>\n",
       "      <td>1</td>\n",
       "      <td>0</td>\n",
       "      <td>0</td>\n",
       "      <td>1</td>\n",
       "      <td>0</td>\n",
       "    </tr>\n",
       "    <tr>\n",
       "      <th>7438</th>\n",
       "      <td>No Urgent Place</td>\n",
       "      <td>Kid(s)</td>\n",
       "      <td>Rainy</td>\n",
       "      <td>55</td>\n",
       "      <td>10PM</td>\n",
       "      <td>Bar</td>\n",
       "      <td>1d</td>\n",
       "      <td>Female</td>\n",
       "      <td>50plus</td>\n",
       "      <td>Married partner</td>\n",
       "      <td>1</td>\n",
       "      <td>Bachelors degree</td>\n",
       "      <td>Sales &amp; Related</td>\n",
       "      <td>$50000 - $62499</td>\n",
       "      <td>Mazda5</td>\n",
       "      <td>4~8</td>\n",
       "      <td>4~8</td>\n",
       "      <td>1~3</td>\n",
       "      <td>1~3</td>\n",
       "      <td>less1</td>\n",
       "      <td>1</td>\n",
       "      <td>1</td>\n",
       "      <td>0</td>\n",
       "      <td>0</td>\n",
       "      <td>1</td>\n",
       "      <td>0</td>\n",
       "    </tr>\n",
       "    <tr>\n",
       "      <th>6807</th>\n",
       "      <td>No Urgent Place</td>\n",
       "      <td>Partner</td>\n",
       "      <td>Snowy</td>\n",
       "      <td>30</td>\n",
       "      <td>2PM</td>\n",
       "      <td>Bar</td>\n",
       "      <td>1d</td>\n",
       "      <td>Male</td>\n",
       "      <td>26</td>\n",
       "      <td>Unmarried partner</td>\n",
       "      <td>0</td>\n",
       "      <td>Some college - no degree</td>\n",
       "      <td>Unemployed</td>\n",
       "      <td>$12500 - $24999</td>\n",
       "      <td>Mazda5</td>\n",
       "      <td>never</td>\n",
       "      <td>less1</td>\n",
       "      <td>1~3</td>\n",
       "      <td>4~8</td>\n",
       "      <td>less1</td>\n",
       "      <td>1</td>\n",
       "      <td>1</td>\n",
       "      <td>0</td>\n",
       "      <td>0</td>\n",
       "      <td>1</td>\n",
       "      <td>0</td>\n",
       "    </tr>\n",
       "    <tr>\n",
       "      <th>11977</th>\n",
       "      <td>No Urgent Place</td>\n",
       "      <td>Kid(s)</td>\n",
       "      <td>Snowy</td>\n",
       "      <td>30</td>\n",
       "      <td>6PM</td>\n",
       "      <td>Bar</td>\n",
       "      <td>1d</td>\n",
       "      <td>Female</td>\n",
       "      <td>21</td>\n",
       "      <td>Married partner</td>\n",
       "      <td>1</td>\n",
       "      <td>Bachelors degree</td>\n",
       "      <td>Unemployed</td>\n",
       "      <td>$37500 - $49999</td>\n",
       "      <td>Mazda5</td>\n",
       "      <td>never</td>\n",
       "      <td>less1</td>\n",
       "      <td>1~3</td>\n",
       "      <td>1~3</td>\n",
       "      <td>less1</td>\n",
       "      <td>1</td>\n",
       "      <td>0</td>\n",
       "      <td>0</td>\n",
       "      <td>0</td>\n",
       "      <td>1</td>\n",
       "      <td>0</td>\n",
       "    </tr>\n",
       "  </tbody>\n",
       "</table>\n",
       "</div>"
      ],
      "text/plain": [
       "           destination passanger weather  temperature  time coupon expiration  \\\n",
       "11633             Work     Alone   Snowy           30   7AM    Bar         1d   \n",
       "7630   No Urgent Place   Partner   Sunny           30  10AM    Bar         1d   \n",
       "7438   No Urgent Place    Kid(s)   Rainy           55  10PM    Bar         1d   \n",
       "6807   No Urgent Place   Partner   Snowy           30   2PM    Bar         1d   \n",
       "11977  No Urgent Place    Kid(s)   Snowy           30   6PM    Bar         1d   \n",
       "\n",
       "       gender     age      maritalStatus  has_children  \\\n",
       "11633    Male      41    Married partner             1   \n",
       "7630     Male  50plus  Unmarried partner             1   \n",
       "7438   Female  50plus    Married partner             1   \n",
       "6807     Male      26  Unmarried partner             0   \n",
       "11977  Female      21    Married partner             1   \n",
       "\n",
       "                      education                        occupation  \\\n",
       "11633  Some college - no degree              Business & Financial   \n",
       "7630          Associates degree  Transportation & Material Moving   \n",
       "7438           Bachelors degree                   Sales & Related   \n",
       "6807   Some college - no degree                        Unemployed   \n",
       "11977          Bachelors degree                        Unemployed   \n",
       "\n",
       "                income     car    Bar CoffeeHouse CarryAway  \\\n",
       "11633  $100000 or More  Mazda5  less1       less1       1~3   \n",
       "7630   $50000 - $62499  Mazda5  never         1~3       4~8   \n",
       "7438   $50000 - $62499  Mazda5    4~8         4~8       1~3   \n",
       "6807   $12500 - $24999  Mazda5  never       less1       1~3   \n",
       "11977  $37500 - $49999  Mazda5  never       less1       1~3   \n",
       "\n",
       "      RestaurantLessThan20 Restaurant20To50  toCoupon_GEQ5min  \\\n",
       "11633                  1~3            less1                 1   \n",
       "7630                   4~8              1~3                 1   \n",
       "7438                   1~3            less1                 1   \n",
       "6807                   4~8            less1                 1   \n",
       "11977                  1~3            less1                 1   \n",
       "\n",
       "       toCoupon_GEQ15min  toCoupon_GEQ25min  direction_same  direction_opp  Y  \n",
       "11633                  1                  1               0              1  1  \n",
       "7630                   1                  0               0              1  0  \n",
       "7438                   1                  0               0              1  0  \n",
       "6807                   1                  0               0              1  0  \n",
       "11977                  0                  0               0              1  0  "
      ]
     },
     "execution_count": 71,
     "metadata": {},
     "output_type": "execute_result"
    }
   ],
   "source": [
    "data_bar = data[data[\"coupon\"]=='Bar']\n",
    "data_bar.sample(5)"
   ]
  },
  {
   "cell_type": "markdown",
   "metadata": {},
   "source": [
    "2. What proportion of bar coupons were accepted?\n"
   ]
  },
  {
   "cell_type": "code",
   "execution_count": 89,
   "metadata": {},
   "outputs": [
    {
     "name": "stdout",
     "output_type": "stream",
     "text": [
      "2017\n",
      "41.0 % of the customers accepted the bar coupon.\n"
     ]
    }
   ],
   "source": [
    "# find out all the bar visits where Y = 1\n",
    "cnp_acpt = (data_bar[data_bar.Y == 1].shape[0])/(data_bar.shape[0])*100\n",
    "print(np.round(cnp_acpt,2), '% of the customers accepted the bar coupon.')"
   ]
  },
  {
   "cell_type": "markdown",
   "metadata": {},
   "source": [
    "3. Compare the acceptance rate between those who went to a bar 3 or fewer times a month to those who went more.\n"
   ]
  },
  {
   "cell_type": "code",
   "execution_count": 73,
   "metadata": {},
   "outputs": [
    {
     "data": {
      "image/png": "[encoded data removed]"
     },
     "metadata": {},
     "output_type": "display_data"
    }
   ],
   "source": [
    "fig = px.histogram(data_bar[data_bar.Y==1], x='Bar', title=\"Coupon Visits\", labels={'Bar':'Bar'},\n",
    "                   color='Bar', text_auto=True)\n",
    "fig.show('png')"
   ]
  },
  {
   "cell_type": "code",
   "execution_count": 74,
   "metadata": {},
   "outputs": [
    {
     "name": "stdout",
     "output_type": "stream",
     "text": [
      "81.5 % of the customers accepted the coupon and went to a bar 3 or fewer times a month.\n",
      "18.5 % of the customers accepted the coupon and went to a bar more than 3 times in a month.\n"
     ]
    }
   ],
   "source": [
    "# creating lists\n",
    "less_than_3_vists_list = [\"never\",\"less1\",\"1~3\"]\n",
    "more_than_3_visits_list = [\"gt8\",\"4~8\"]\n",
    "# performing queries (bar visits)\n",
    "bar_lt_3_acpt = (data_bar[data_bar.Y == 1].query('Bar in @less_than_3_vists_list').shape[0])/(data_bar[data_bar.Y == 1].shape[0])*100\n",
    "bar_gt_3_acpt = (data_bar[data_bar.Y == 1].query('Bar in @more_than_3_visits_list').shape[0])/(data_bar[data_bar.Y == 1].shape[0])*100\n",
    "\n",
    "print(np.round(bar_lt_3_acpt,2),'% of the customers accepted the coupon and went to a bar 3 or fewer times a month.')\n",
    "print(np.round(bar_gt_3_acpt,2),'% of the customers accepted the coupon and went to a bar more than 3 times in a month.')"
   ]
  },
  {
   "cell_type": "markdown",
   "metadata": {},
   "source": [
    "4. Compare the acceptance rate between drivers who go to a bar more than once a month and are over the age of 25 to the all others.  Is there a difference?\n"
   ]
  },
  {
   "cell_type": "code",
   "execution_count": 75,
   "metadata": {},
   "outputs": [],
   "source": [
    "# creating lists\n",
    "agegt25_list = ['46','26','31','41','50plus','36']\n",
    "bargt1_list = ['1~3','gt8','4~8']\n",
    "# performing queries (age > 25 and bar > 1 visit)\n",
    "data_bargt1_agegt25 = data_bar[data_bar.Y==1].query('age in @agegt25_list and Bar in @bargt1_list')\n",
    "bargt1_agegt25_acpt = (data_bargt1_agegt25.shape[0])/(data_bar[data_bar.Y == 1].shape[0])*100"
   ]
  },
  {
   "cell_type": "code",
   "execution_count": 76,
   "metadata": {},
   "outputs": [],
   "source": [
    "# customers who accepted the coupon, were over 25, went to bar less than once\n",
    "agegt25_list = ['46','26','31','41','50plus','36']\n",
    "bar_never_list = ['never','less1']\n",
    "df1 = data_bar[data_bar.Y==1].query('age in @agegt25_list and Bar in @bar_never_list')\n",
    "\n",
    "# customers who accepted the coupon, were under 25, went to bar less than once\n",
    "agelt25_list = ['21','below21']\n",
    "df2 = data_bar[data_bar.Y==1].query('age in @agelt25_list and Bar in @bar_never_list')\n",
    "\n",
    "# customers who accepted the coupon, were under 25, went to bar more than once\n",
    "bargt1_list = ['1~3','gt8','4~8']\n",
    "df3 = data_bar[data_bar.Y==1].query('age in @agelt25_list and Bar in @bargt1_list')\n",
    "\n",
    "# sum of all the \"other\" customers\n",
    "barlt1_agelt25_acpt = (df1.shape[0]+df2.shape[0]+df3.shape[0])/(data_bar[data_bar.Y == 1].shape[0])*100"
   ]
  },
  {
   "cell_type": "code",
   "execution_count": 77,
   "metadata": {},
   "outputs": [
    {
     "name": "stdout",
     "output_type": "stream",
     "text": [
      "35.31 % of customers who were over 25 and went to the bar more than once accepted the coupon\n",
      "64.69 % of customers who were less than 25 years of age and never went to a bar accepted the coupon\n"
     ]
    }
   ],
   "source": [
    "print(np.round(bargt1_agegt25_acpt,2),'% of customers who were over 25 and went to the bar more than once accepted the coupon')\n",
    "print(np.round(barlt1_agelt25_acpt,2),'% of customers who were less than 25 years of age and never went to a bar accepted the coupon')"
   ]
  },
  {
   "cell_type": "markdown",
   "metadata": {},
   "source": [
    "5. Use the same process to compare the acceptance rate between drivers who go to bars more than once a month and had passengers that were not a kid and had occupations other than farming, fishing, or forestry. \n"
   ]
  },
  {
   "cell_type": "code",
   "execution_count": 78,
   "metadata": {},
   "outputs": [
    {
     "name": "stdout",
     "output_type": "stream",
     "text": [
      "47.52 % of customers, who went to a bar & had occupations other than farming & had passengers who were not kids.\n",
      "52.48 % of all other customers.\n"
     ]
    }
   ],
   "source": [
    "# creating lists\n",
    "bargt1_list = ['1~3','gt8','4~8']\n",
    "occupation_list = ['Farming Fishing & Forestry']\n",
    "\n",
    "# performing queries for bar visits, occupation & passanger\n",
    "data_bargt1_kgt0_oc = data_bar[data_bar.Y==1].query('Bar in @bargt1_list and occupation not in @occupation_list and passanger != \"Kid(s)\"')\n",
    "bargt1_kgt0_oc_acpt = (data_bargt1_kgt0_oc.shape[0])/(data_bar[data_bar.Y == 1].shape[0])*100\n",
    "\n",
    "print(np.round(bargt1_kgt0_oc_acpt,2),'% of customers, who went to a bar & had occupations other than farming & had passengers who were not kids.')\n",
    "print(np.round(100-bargt1_kgt0_oc_acpt,2), '% of all other customers.')"
   ]
  },
  {
   "cell_type": "markdown",
   "metadata": {},
   "source": [
    "6. Compare the acceptance rates between those drivers who:\n",
    "\n",
    "- go to bars more than once a month, had passengers that were not a kid, and were not widowed *OR*\n",
    "- go to bars more than once a month and are under the age of 30 *OR*\n",
    "- go to cheap restaurants more than 4 times a month and income is less than 50K. "
   ]
  },
  {
   "cell_type": "code",
   "execution_count": 79,
   "metadata": {},
   "outputs": [
    {
     "name": "stdout",
     "output_type": "stream",
     "text": [
      "47.52 % of customers who go to bars more than once, who have no kids and were not widowed\n",
      "30.11 % of customers who go to bars more than once, and are under the age of 30\n",
      "18.86 % of customers who go to cheap restaurants more than 4 times a month and have income less than 50k\n"
     ]
    }
   ],
   "source": [
    "# use query in\n",
    "bargt1_list = ['1~3','gt8','4~8']\n",
    "passanger_nk_list = ['Alone','Friend(s)','Partner']\n",
    "maritalStatus_list = ['Unmarried partner','Single','Married partner','Divorced']\n",
    "df1 = data_bar[data_bar.Y==1].query('Bar in @bargt1_list and passanger in @passanger_nk_list and maritalStatus in @maritalStatus_list')\n",
    "df1_acpt = (df1.shape[0])/(data_bar[data_bar.Y == 1].shape[0])*100\n",
    "df2 = data_bar[data_bar.Y==1].query('Bar in @bargt1_list and age in [\"21\",\"26\",\"below21\"]')\n",
    "df2_acpt = (df2.shape[0])/(data_bar[data_bar.Y == 1].shape[0])*100\n",
    "df3 = data_bar[data_bar.Y==1].query('RestaurantLessThan20 in [\"gt8\",\"4~8\"] and income in [\"$37500 - $49999\",\"$12500 - $24999\",\"$25000 - $37499\",\"Less than $12500\"]')\n",
    "df3_acpt = (df3.shape[0])/(data_bar[data_bar.Y == 1].shape[0])*100\n",
    "\n",
    "print(np.round(df1_acpt,2),\"% of customers who go to bars more than once, who have no kids and were not widowed\")\n",
    "print(np.round(df2_acpt,2),\"% of customers who go to bars more than once, and are under the age of 30\")\n",
    "print(np.round(df3_acpt,2),\"% of customers who go to cheap restaurants more than 4 times a month and have income less than 50k\")"
   ]
  },
  {
   "cell_type": "markdown",
   "metadata": {},
   "source": [
    "7.  Based on these observations, what do you hypothesize about drivers who accepted the bar coupons?"
   ]
  },
  {
   "cell_type": "markdown",
   "metadata": {},
   "source": [
    "### Drivers most likely to accept a bar coupon\n",
    "- have been atleast once to a bar.\n",
    "- have no kid passangers.\n",
    "- are over the age of 30."
   ]
  },
  {
   "cell_type": "markdown",
   "metadata": {},
   "source": [
    "### Independent Investigation - Carry out & Take away Coupons\n",
    "\n",
    "Using the bar coupon example as motivation, you are to explore one of the other coupon groups and try to determine the characteristics of passengers who accept the coupons.  "
   ]
  },
  {
   "cell_type": "code",
   "execution_count": 81,
   "metadata": {},
   "outputs": [
    {
     "data": {
      "text/html": [
       "<div>\n",
       "<style scoped>\n",
       "    .dataframe tbody tr th:only-of-type {\n",
       "        vertical-align: middle;\n",
       "    }\n",
       "\n",
       "    .dataframe tbody tr th {\n",
       "        vertical-align: top;\n",
       "    }\n",
       "\n",
       "    .dataframe thead th {\n",
       "        text-align: right;\n",
       "    }\n",
       "</style>\n",
       "<table border=\"1\" class=\"dataframe\">\n",
       "  <thead>\n",
       "    <tr style=\"text-align: right;\">\n",
       "      <th></th>\n",
       "      <th>destination</th>\n",
       "      <th>passanger</th>\n",
       "      <th>weather</th>\n",
       "      <th>temperature</th>\n",
       "      <th>time</th>\n",
       "      <th>coupon</th>\n",
       "      <th>expiration</th>\n",
       "      <th>gender</th>\n",
       "      <th>age</th>\n",
       "      <th>maritalStatus</th>\n",
       "      <th>has_children</th>\n",
       "      <th>education</th>\n",
       "      <th>occupation</th>\n",
       "      <th>income</th>\n",
       "      <th>car</th>\n",
       "      <th>Bar</th>\n",
       "      <th>CoffeeHouse</th>\n",
       "      <th>CarryAway</th>\n",
       "      <th>RestaurantLessThan20</th>\n",
       "      <th>Restaurant20To50</th>\n",
       "      <th>toCoupon_GEQ5min</th>\n",
       "      <th>toCoupon_GEQ15min</th>\n",
       "      <th>toCoupon_GEQ25min</th>\n",
       "      <th>direction_same</th>\n",
       "      <th>direction_opp</th>\n",
       "      <th>Y</th>\n",
       "    </tr>\n",
       "  </thead>\n",
       "  <tbody>\n",
       "    <tr>\n",
       "      <th>8288</th>\n",
       "      <td>Home</td>\n",
       "      <td>Alone</td>\n",
       "      <td>Sunny</td>\n",
       "      <td>30</td>\n",
       "      <td>6PM</td>\n",
       "      <td>Carry out &amp; Take away</td>\n",
       "      <td>2h</td>\n",
       "      <td>Male</td>\n",
       "      <td>21</td>\n",
       "      <td>Single</td>\n",
       "      <td>0</td>\n",
       "      <td>Associates degree</td>\n",
       "      <td>Computer &amp; Mathematical</td>\n",
       "      <td>$37500 - $49999</td>\n",
       "      <td>Car that is too old to install Onstar :D</td>\n",
       "      <td>never</td>\n",
       "      <td>less1</td>\n",
       "      <td>1~3</td>\n",
       "      <td>less1</td>\n",
       "      <td>less1</td>\n",
       "      <td>1</td>\n",
       "      <td>1</td>\n",
       "      <td>0</td>\n",
       "      <td>1</td>\n",
       "      <td>0</td>\n",
       "      <td>1</td>\n",
       "    </tr>\n",
       "    <tr>\n",
       "      <th>8700</th>\n",
       "      <td>No Urgent Place</td>\n",
       "      <td>Friend(s)</td>\n",
       "      <td>Snowy</td>\n",
       "      <td>30</td>\n",
       "      <td>10PM</td>\n",
       "      <td>Carry out &amp; Take away</td>\n",
       "      <td>1d</td>\n",
       "      <td>Male</td>\n",
       "      <td>31</td>\n",
       "      <td>Married partner</td>\n",
       "      <td>0</td>\n",
       "      <td>Graduate degree (Masters or Doctorate)</td>\n",
       "      <td>Business &amp; Financial</td>\n",
       "      <td>$75000 - $87499</td>\n",
       "      <td>Mazda5</td>\n",
       "      <td>1~3</td>\n",
       "      <td>4~8</td>\n",
       "      <td>less1</td>\n",
       "      <td>4~8</td>\n",
       "      <td>less1</td>\n",
       "      <td>1</td>\n",
       "      <td>1</td>\n",
       "      <td>0</td>\n",
       "      <td>0</td>\n",
       "      <td>1</td>\n",
       "      <td>1</td>\n",
       "    </tr>\n",
       "    <tr>\n",
       "      <th>5849</th>\n",
       "      <td>Work</td>\n",
       "      <td>Alone</td>\n",
       "      <td>Sunny</td>\n",
       "      <td>80</td>\n",
       "      <td>7AM</td>\n",
       "      <td>Carry out &amp; Take away</td>\n",
       "      <td>1d</td>\n",
       "      <td>Female</td>\n",
       "      <td>50plus</td>\n",
       "      <td>Single</td>\n",
       "      <td>0</td>\n",
       "      <td>Graduate degree (Masters or Doctorate)</td>\n",
       "      <td>Arts Design Entertainment Sports &amp; Media</td>\n",
       "      <td>$37500 - $49999</td>\n",
       "      <td>Mazda5</td>\n",
       "      <td>1~3</td>\n",
       "      <td>4~8</td>\n",
       "      <td>4~8</td>\n",
       "      <td>4~8</td>\n",
       "      <td>1~3</td>\n",
       "      <td>1</td>\n",
       "      <td>0</td>\n",
       "      <td>0</td>\n",
       "      <td>1</td>\n",
       "      <td>0</td>\n",
       "      <td>1</td>\n",
       "    </tr>\n",
       "    <tr>\n",
       "      <th>9278</th>\n",
       "      <td>Home</td>\n",
       "      <td>Alone</td>\n",
       "      <td>Sunny</td>\n",
       "      <td>80</td>\n",
       "      <td>6PM</td>\n",
       "      <td>Carry out &amp; Take away</td>\n",
       "      <td>1d</td>\n",
       "      <td>Female</td>\n",
       "      <td>26</td>\n",
       "      <td>Unmarried partner</td>\n",
       "      <td>0</td>\n",
       "      <td>High School Graduate</td>\n",
       "      <td>Healthcare Support</td>\n",
       "      <td>$25000 - $37499</td>\n",
       "      <td>Mazda5</td>\n",
       "      <td>less1</td>\n",
       "      <td>less1</td>\n",
       "      <td>1~3</td>\n",
       "      <td>1~3</td>\n",
       "      <td>1~3</td>\n",
       "      <td>1</td>\n",
       "      <td>0</td>\n",
       "      <td>0</td>\n",
       "      <td>0</td>\n",
       "      <td>1</td>\n",
       "      <td>1</td>\n",
       "    </tr>\n",
       "    <tr>\n",
       "      <th>8534</th>\n",
       "      <td>Home</td>\n",
       "      <td>Partner</td>\n",
       "      <td>Sunny</td>\n",
       "      <td>30</td>\n",
       "      <td>10PM</td>\n",
       "      <td>Carry out &amp; Take away</td>\n",
       "      <td>2h</td>\n",
       "      <td>Female</td>\n",
       "      <td>21</td>\n",
       "      <td>Married partner</td>\n",
       "      <td>1</td>\n",
       "      <td>Some college - no degree</td>\n",
       "      <td>Student</td>\n",
       "      <td>$12500 - $24999</td>\n",
       "      <td>Mazda5</td>\n",
       "      <td>1~3</td>\n",
       "      <td>1~3</td>\n",
       "      <td>4~8</td>\n",
       "      <td>4~8</td>\n",
       "      <td>never</td>\n",
       "      <td>1</td>\n",
       "      <td>1</td>\n",
       "      <td>0</td>\n",
       "      <td>0</td>\n",
       "      <td>1</td>\n",
       "      <td>0</td>\n",
       "    </tr>\n",
       "  </tbody>\n",
       "</table>\n",
       "</div>"
      ],
      "text/plain": [
       "          destination  passanger weather  temperature  time  \\\n",
       "8288             Home      Alone   Sunny           30   6PM   \n",
       "8700  No Urgent Place  Friend(s)   Snowy           30  10PM   \n",
       "5849             Work      Alone   Sunny           80   7AM   \n",
       "9278             Home      Alone   Sunny           80   6PM   \n",
       "8534             Home    Partner   Sunny           30  10PM   \n",
       "\n",
       "                     coupon expiration  gender     age      maritalStatus  \\\n",
       "8288  Carry out & Take away         2h    Male      21             Single   \n",
       "8700  Carry out & Take away         1d    Male      31    Married partner   \n",
       "5849  Carry out & Take away         1d  Female  50plus             Single   \n",
       "9278  Carry out & Take away         1d  Female      26  Unmarried partner   \n",
       "8534  Carry out & Take away         2h  Female      21    Married partner   \n",
       "\n",
       "      has_children                               education  \\\n",
       "8288             0                       Associates degree   \n",
       "8700             0  Graduate degree (Masters or Doctorate)   \n",
       "5849             0  Graduate degree (Masters or Doctorate)   \n",
       "9278             0                    High School Graduate   \n",
       "8534             1                Some college - no degree   \n",
       "\n",
       "                                    occupation           income  \\\n",
       "8288                   Computer & Mathematical  $37500 - $49999   \n",
       "8700                      Business & Financial  $75000 - $87499   \n",
       "5849  Arts Design Entertainment Sports & Media  $37500 - $49999   \n",
       "9278                        Healthcare Support  $25000 - $37499   \n",
       "8534                                   Student  $12500 - $24999   \n",
       "\n",
       "                                           car    Bar CoffeeHouse CarryAway  \\\n",
       "8288  Car that is too old to install Onstar :D  never       less1       1~3   \n",
       "8700                                    Mazda5    1~3         4~8     less1   \n",
       "5849                                    Mazda5    1~3         4~8       4~8   \n",
       "9278                                    Mazda5  less1       less1       1~3   \n",
       "8534                                    Mazda5    1~3         1~3       4~8   \n",
       "\n",
       "     RestaurantLessThan20 Restaurant20To50  toCoupon_GEQ5min  \\\n",
       "8288                less1            less1                 1   \n",
       "8700                  4~8            less1                 1   \n",
       "5849                  4~8              1~3                 1   \n",
       "9278                  1~3              1~3                 1   \n",
       "8534                  4~8            never                 1   \n",
       "\n",
       "      toCoupon_GEQ15min  toCoupon_GEQ25min  direction_same  direction_opp  Y  \n",
       "8288                  1                  0               1              0  1  \n",
       "8700                  1                  0               0              1  1  \n",
       "5849                  0                  0               1              0  1  \n",
       "9278                  0                  0               0              1  1  \n",
       "8534                  1                  0               0              1  0  "
      ]
     },
     "execution_count": 81,
     "metadata": {},
     "output_type": "execute_result"
    }
   ],
   "source": [
    "data_carryout = data[data[\"coupon\"]=='Carry out & Take away']\n",
    "data_carryout.sample(5)"
   ]
  },
  {
   "cell_type": "code",
   "execution_count": 82,
   "metadata": {},
   "outputs": [
    {
     "name": "stdout",
     "output_type": "stream",
     "text": [
      "<class 'pandas.core.frame.DataFrame'>\n",
      "Int64Index: 2393 entries, 2 to 12680\n",
      "Data columns (total 26 columns):\n",
      " #   Column                Non-Null Count  Dtype \n",
      "---  ------                --------------  ----- \n",
      " 0   destination           2393 non-null   object\n",
      " 1   passanger             2393 non-null   object\n",
      " 2   weather               2393 non-null   object\n",
      " 3   temperature           2393 non-null   int64 \n",
      " 4   time                  2393 non-null   object\n",
      " 5   coupon                2393 non-null   object\n",
      " 6   expiration            2393 non-null   object\n",
      " 7   gender                2393 non-null   object\n",
      " 8   age                   2393 non-null   object\n",
      " 9   maritalStatus         2393 non-null   object\n",
      " 10  has_children          2393 non-null   int64 \n",
      " 11  education             2393 non-null   object\n",
      " 12  occupation            2393 non-null   object\n",
      " 13  income                2393 non-null   object\n",
      " 14  car                   2393 non-null   object\n",
      " 15  Bar                   2393 non-null   object\n",
      " 16  CoffeeHouse           2393 non-null   object\n",
      " 17  CarryAway             2393 non-null   object\n",
      " 18  RestaurantLessThan20  2393 non-null   object\n",
      " 19  Restaurant20To50      2393 non-null   object\n",
      " 20  toCoupon_GEQ5min      2393 non-null   int64 \n",
      " 21  toCoupon_GEQ15min     2393 non-null   int64 \n",
      " 22  toCoupon_GEQ25min     2393 non-null   int64 \n",
      " 23  direction_same        2393 non-null   int64 \n",
      " 24  direction_opp         2393 non-null   int64 \n",
      " 25  Y                     2393 non-null   int64 \n",
      "dtypes: int64(8), object(18)\n",
      "memory usage: 504.8+ KB\n"
     ]
    }
   ],
   "source": [
    "data_carryout.info()"
   ]
  },
  {
   "cell_type": "markdown",
   "metadata": {},
   "source": [
    "1 - What proportion of carryout coupons were accepted?"
   ]
  },
  {
   "cell_type": "code",
   "execution_count": 151,
   "metadata": {},
   "outputs": [
    {
     "name": "stdout",
     "output_type": "stream",
     "text": [
      "73.55 % of the customers accepted the carryout coupon.\n"
     ]
    }
   ],
   "source": [
    "# find out all the carryout visits where Y = 1\n",
    "carryout_acpt = (data_carryout[data_carryout.Y == 1].shape[0])/(data_carryout.shape[0])*100\n",
    "print(np.round(carryout_acpt,2), '% of the customers accepted the carryout coupon.')"
   ]
  },
  {
   "cell_type": "markdown",
   "metadata": {},
   "source": [
    "2 - Compare acceptance rate of customers who do a carry out more than 4 times in a month to others"
   ]
  },
  {
   "cell_type": "code",
   "execution_count": 112,
   "metadata": {},
   "outputs": [
    {
     "name": "stdout",
     "output_type": "stream",
     "text": [
      "47.78 % of the customers took a carryout more than 4 times in a month.\n",
      "52.22 % of all other customers who do a carryout.\n"
     ]
    }
   ],
   "source": [
    "# creating lists\n",
    "carry_list = ['gt8','4~8']\n",
    "\n",
    "# performing queries for customers who do a take out more than 4 times in a month\n",
    "data_carrygt4 = data_carryout[data_carryout.Y==1].query('CarryAway in @carry_list')\n",
    "carrygt4_acpt = (data_carrygt4.shape[0])/(data_carryout[data_carryout.Y == 1].shape[0])*100\n",
    "\n",
    "print(np.round(carrygt4_acpt,2), '% of the customers took a carryout more than 4 times in a month.')\n",
    "print(np.round(100-carrygt4_acpt,2), '% of all other customers who do a carryout.')"
   ]
  },
  {
   "cell_type": "markdown",
   "metadata": {},
   "source": [
    "3 - Compare acceptance rate of customers who do a carry out more than 4 times in a month and are driving alone"
   ]
  },
  {
   "cell_type": "code",
   "execution_count": 115,
   "metadata": {},
   "outputs": [
    {
     "data": {
      "image/png": "[encoded data removed]",
      "text/plain": [
       "<Figure size 1000x500 with 1 Axes>"
      ]
     },
     "metadata": {},
     "output_type": "display_data"
    }
   ],
   "source": [
    "sns.set(rc={\"figure.figsize\":(10, 5)})\n",
    "fig = sns.countplot(x=\"passanger\", hue='CarryAway', data=data_carryout)\n",
    "for container in fig.containers:\n",
    "    fig.bar_label(container)\n",
    "\n",
    "plt.xlabel(\"Passanger & CarryAway\")\n",
    "plt.ylabel(\"Count\")\n",
    "plt.title(\"Count by Passanger & CarryAway\")\n",
    "plt.show(fig)"
   ]
  },
  {
   "cell_type": "code",
   "execution_count": 134,
   "metadata": {},
   "outputs": [
    {
     "name": "stdout",
     "output_type": "stream",
     "text": [
      "28.52 % of the customers took a carryout more than 4 times in a month & drove alone\n",
      "29.55 % of the customers took a carryout less than 4 times in a month & drove alone\n"
     ]
    }
   ],
   "source": [
    "# creating lists\n",
    "carrygt4_list = ['gt8','4~8']\n",
    "passanger_list = ['Alone']\n",
    "carrylt4_list = ['1~3','less1','never']\n",
    "\n",
    "# performing queries for customers who do a take out more than 4 times in a month & are driving alone\n",
    "data_carrygt4_alone = data_carryout[data_carryout.Y==1].query('CarryAway in @carrygt4_list and passanger in @passanger_list')\n",
    "data_carrylt4_alone = data_carryout[data_carryout.Y==1].query('CarryAway in @carrylt4_list and passanger in @passanger_list')\n",
    "carrygt4_alone_acpt = (data_carrygt4_alone.shape[0])/(data_carryout[data_carryout.Y == 1].shape[0])*100\n",
    "carrylt4_alone_acpt = (data_carrylt4_alone.shape[0])/(data_carryout[data_carryout.Y == 1].shape[0])*100\n",
    "\n",
    "print(np.round(carrygt4_alone_acpt,2), '% of the customers took a carryout more than 4 times in a month & drove alone')\n",
    "print(np.round(carrylt4_alone_acpt,2), '% of the customers took a carryout less than 4 times in a month & drove alone')\n"
   ]
  },
  {
   "cell_type": "markdown",
   "metadata": {},
   "source": [
    "4 - Acceptance rate between drivers who drive to work in the morning (before noon) and drivers going home in the evening."
   ]
  },
  {
   "cell_type": "code",
   "execution_count": 149,
   "metadata": {},
   "outputs": [
    {
     "name": "stdout",
     "output_type": "stream",
     "text": [
      "28.35 % of the customers accepted a carryon coupon while driving to work before noon.\n",
      "29.26 % of the customers accepted a carryon coupon while driving to home in the evening.\n"
     ]
    }
   ],
   "source": [
    "# creating lists\n",
    "dest_wk_list = ['Work']\n",
    "dest_home_list = ['Home']\n",
    "time_am_list = ['7AM','10AM']\n",
    "time_pm_list = ['2PM','6PM','10PM']\n",
    "\n",
    "# performing queries for customers who do a take out more than 4 times in a month & are driving alone\n",
    "data_wk_am = data_carryout[data_carryout.Y==1].query('destination in @dest_wk_list and time in @time_am_list')\n",
    "wk_am_acpt = (data_wk_am.shape[0])/(data_carryout[data_carryout.Y == 1].shape[0])*100\n",
    "\n",
    "data_home_pm = data_carryout[data_carryout.Y==1].query('destination in @dest_home_list and time in @time_pm_list')\n",
    "home_pm_acpt = (data_home_pm.shape[0])/(data_carryout[data_carryout.Y == 1].shape[0])*100\n",
    "\n",
    "print(np.round(wk_am_acpt,2), '% of the customers accepted a carryon coupon while driving to work before noon.')\n",
    "print(np.round(home_pm_acpt,2), '% of the customers accepted a carryon coupon while driving to home in the evening.')"
   ]
  },
  {
   "cell_type": "markdown",
   "metadata": {},
   "source": [
    "5 - Visualization of drivers by gender & marital status."
   ]
  },
  {
   "cell_type": "code",
   "execution_count": 103,
   "metadata": {},
   "outputs": [
    {
     "data": {
      "image/png": "[encoded data removed]",
      "text/plain": [
       "<Figure size 1000x500 with 1 Axes>"
      ]
     },
     "metadata": {},
     "output_type": "display_data"
    }
   ],
   "source": [
    "sns.set(rc={\"figure.figsize\":(10, 5)})\n",
    "fig = sns.countplot(x=\"maritalStatus\", hue='gender', data=data_carryout)\n",
    "for container in fig.containers:\n",
    "    fig.bar_label(container)\n",
    "\n",
    "plt.xlabel(\"Marital Status\")\n",
    "plt.ylabel(\"Count\")\n",
    "plt.title(\"Count by Marital Status\")\n",
    "plt.show(fig)"
   ]
  },
  {
   "cell_type": "markdown",
   "metadata": {},
   "source": [
    "6 - Hypothesize about drivers who accepted the carry out & takeaway coupons"
   ]
  },
  {
   "cell_type": "markdown",
   "metadata": {},
   "source": [
    "### Drivers most likely to accept a carry out coupon\n",
    "- have taken a carry out atleast once in a month\n",
    "- drivers who drive alone with no passengers \n",
    "- are the ones who typically drive to work & back home."
   ]
  },
  {
   "cell_type": "code",
   "execution_count": null,
   "metadata": {},
   "outputs": [],
   "source": []
  }
 ],
 "metadata": {
  "kernelspec": {
   "display_name": "Python 3",
   "language": "python",
   "name": "python3"
  },
  "language_info": {
   "codemirror_mode": {
    "name": "ipython",
    "version": 3
   },
   "file_extension": ".py",
   "mimetype": "text/x-python",
   "name": "python",
   "nbconvert_exporter": "python",
   "pygments_lexer": "ipython3",
   "version": "3.9.13"
  },
  "widgets": {
   "application/vnd.jupyter.widget-state+json": {
    "state": {},
    "version_major": 2,
    "version_minor": 0
   }
  }
 },
 "nbformat": 4,
 "nbformat_minor": 4
}
